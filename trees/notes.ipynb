{
 "cells": [
  {
   "cell_type": "markdown",
   "source": [
    "AA Tree: Discoveries\n",
    "\n",
    "- Although it has been quite difficult narrowing down the bugs while implementing the skew/split operations on AA trees, the tree structure itself is interesting. I have not fully understood what benefit this has towards a red-black traditional tree, I remember reading somewhere that the search time is drastically reduced due to the right-linkage, but I can't quite narrow down as to *why* it is that way. I will update as I discover that. I managed to create insert, and skew/split on my own, just looking at diagrams to help me move along the way. I haven't implemented deletion yet, I have a feeling that will prove rather troublesome."
   ],
   "metadata": {
    "collapsed": false
   }
  },
  {
   "cell_type": "code",
   "execution_count": 3,
   "outputs": [],
   "source": [
    "# I structured the code in a type-heavy sort of way, all types are defined, there are no unknowns\n",
    "from __future__ import annotations\n",
    "from enum import Enum\n",
    "from typing import Optional\n",
    "\n",
    "class Color(Enum):\n",
    "    \"\"\"\n",
    "    Represents a color of the node, can either be red or black. Uses the Enum library to add enums for the colors, easier to access\n",
    "    \"\"\"\n",
    "    RED = 0\n",
    "    BLACK = 1\n",
    "\n",
    "class TreeNode:\n",
    "    \"\"\"\n",
    "    Representation of a node within the AA Tree\n",
    "    \"\"\"\n",
    "    def __init__(self: TreeNode, value: int) -> None:\n",
    "        \"\"\"\n",
    "        Initialization of the node, takes in a value argument that specifies the integer value of that node\n",
    "\n",
    "        :param value: The value of the node being instantiated\n",
    "        \"\"\"\n",
    "        self.value: int = value\n",
    "        self.left: Optional[TreeNode] = None\n",
    "        self.right: Optional[TreeNode] = None\n",
    "        self.parent: Optional[TreeNode] = None\n",
    "        self.level: int = 1\n",
    "        self.color: Color = Color.RED"
   ],
   "metadata": {
    "collapsed": false
   }
  }
 ],
 "metadata": {
  "kernelspec": {
   "display_name": "Python 3",
   "language": "python",
   "name": "python3"
  },
  "language_info": {
   "codemirror_mode": {
    "name": "ipython",
    "version": 2
   },
   "file_extension": ".py",
   "mimetype": "text/x-python",
   "name": "python",
   "nbconvert_exporter": "python",
   "pygments_lexer": "ipython2",
   "version": "2.7.6"
  }
 },
 "nbformat": 4,
 "nbformat_minor": 0
}
