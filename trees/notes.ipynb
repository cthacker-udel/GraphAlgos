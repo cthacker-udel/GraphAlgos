{
 "cells": [
  {
   "cell_type": "markdown",
   "source": [
    "AA Tree: Discoveries\n",
    "\n",
    "- Although it has been quite difficult narrowing down the bugs while implementing the skew/split operations on AA trees, the tree structure itself is interesting. I have not fully understood what benefit this has towards a red-black traditional tree, I remember reading somewhere that the search time is drastically reduced due to the right-linkage, but I can't quite narrow down as to *why* it is that way. I will update as I discover that. I managed to create insert, and skew/split on my own, just looking at diagrams to help me move along the way. I haven't implemented deletion yet, I have a feeling that will prove rather troublesome.\n",
    "- (Update) Deletion did not prove troublesome at all, one of the benefits of using an AA tree over a red-black, is generally just less complexity. As the rule of only having right children as red nodes eliminates a lot of the complex cases that arise when managing the balance of a red-black tree. The only case that was a tad bit complex was managing deletion if the node we are deleting has two children, in which case we need to find it's inorder successor, which is basically the leftmost node of the right subtree. I managed to handle that case just fine. Search time is still O(logn) which is the same as red-black, but the actual complexity of maintaining the tree is reduced drastically due to the introduction of the rules, and the `level` field introduced"
   ],
   "metadata": {
    "collapsed": false
   }
  },
  {
   "cell_type": "code",
   "execution_count": 4,
   "outputs": [],
   "source": [
    "# I structured the code in a type-heavy sort of way, all types are defined, there are no unknowns\n",
    "from __future__ import annotations\n",
    "from enum import Enum\n",
    "from typing import Optional\n",
    "\n",
    "class Color(Enum):\n",
    "    \"\"\"\n",
    "    Represents a color of the node, can either be red or black. Uses the Enum library to add enums for the colors, easier to access\n",
    "    \"\"\"\n",
    "    RED = 0\n",
    "    BLACK = 1\n",
    "\n",
    "class TreeNode:\n",
    "    \"\"\"\n",
    "    Representation of a node within the AA Tree\n",
    "    \"\"\"\n",
    "    def __init__(self: TreeNode, value: int) -> None:\n",
    "        \"\"\"\n",
    "        Initialization of the node, takes in a value argument that specifies the integer value of that node\n",
    "\n",
    "        :param value: The value of the node being instantiated\n",
    "        \"\"\"\n",
    "        self.value: int = value\n",
    "        self.left: Optional[TreeNode] = None\n",
    "        self.right: Optional[TreeNode] = None\n",
    "        self.parent: Optional[TreeNode] = None\n",
    "        self.level: int = 1\n",
    "        self.color: Color = Color.RED"
   ],
   "metadata": {
    "collapsed": false
   }
  },
  {
   "cell_type": "markdown",
   "source": [
    "B-Tree: Discoveries\n",
    "Upon initial reading of the B-Tree, it intrigues me how such a data structure can exist, and still have optimal structure. Considering, as far as I know, that the data structure consists of nodes, and each of those nodes consisting of pointers, which represent the \"gaps\" between its values. Those ranges serving as pointers to an array of nodes, and so on. I implemented that kind of structure in my code, making sure that whenever a key was added, ranges were recalculated, and the children were re-applied back into the node. This led me to an somewhat understandable implementation. This gives me some insight also into how this data structure could exist within a database, considering that it can contain an almost unlimited amount of keys, and an almost unlimited amount of keys. The real troublesome, was figuring out how to correctly generate those pointers as displayed in this image, on the wikipedia page, here: https://en.wikipedia.org/wiki/B-tree --> https://upload.wikimedia.org/wikipedia/commons/thumb/6/65/B-tree.svg/400px-B-tree.svg.png, those dots are represented within my code as the RangePointer, which is basically a pointer that maps to another node, but it has the properties `lessThan` and `greaterThan`, which allow it to be dynamically and conditionally added nodes. The flow for adding a key is as follows: 1st I create the new range of RangePointers our node should have, then I pass that into the reorder_children method, which compiles all the children (child node's keys), and then re-maps them to the new RangePointers. There is most likely a more efficient way than computing at worst, O(n^2), due to me iterating over all the children and all the key_pointers simultaneously. That is not a bad tradeoff for adding in a key, but there is most likely a more efficient way of undergoing that operation, and because this is commonly used within databases, which tons of data, O(n^2) most likely won't make the cut in my opinion."
   ],
   "metadata": {
    "collapsed": false
   }
  }
 ],
 "metadata": {
  "kernelspec": {
   "display_name": "Python 3",
   "language": "python",
   "name": "python3"
  },
  "language_info": {
   "codemirror_mode": {
    "name": "ipython",
    "version": 2
   },
   "file_extension": ".py",
   "mimetype": "text/x-python",
   "name": "python",
   "nbconvert_exporter": "python",
   "pygments_lexer": "ipython2",
   "version": "2.7.6"
  }
 },
 "nbformat": 4,
 "nbformat_minor": 0
}
